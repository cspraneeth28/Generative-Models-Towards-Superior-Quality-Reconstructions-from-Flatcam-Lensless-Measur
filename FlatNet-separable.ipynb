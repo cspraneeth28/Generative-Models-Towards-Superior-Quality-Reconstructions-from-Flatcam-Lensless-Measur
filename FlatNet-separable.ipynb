{
 "cells": [
  {
   "cell_type": "code",
   "execution_count": null,
   "metadata": {
    "executionInfo": {
     "elapsed": 3444,
     "status": "ok",
     "timestamp": 1615094355782,
     "user": {
      "displayName": "Mafee Axe",
      "photoUrl": "",
      "userId": "13239148624326640903"
     },
     "user_tz": -330
    },
    "id": "6I6Vqc_X4DHK"
   },
   "outputs": [],
   "source": [
    "import torch\n",
    "import scipy.io as sio\n",
    "import numpy as np\n",
    "import os\n",
    "import skimage.io\n",
    "from torch.autograd import Variable\n",
    "import torch.nn as nn\n",
    "import torch.nn.functional as F\n",
    "from scipy.io import loadmat\n",
    "#import flatcam\n",
    "import matplotlib.pyplot as plt\n",
    "import matplotlib.image as mpimg\n",
    "import scipy.misc\n"
   ]
  },
  {
   "cell_type": "markdown",
   "metadata": {
    "id": "ewTjNxGy4ECJ"
   },
   "source": [
    "**Download model**"
   ]
  },
  {
   "cell_type": "code",
   "execution_count": null,
   "metadata": {
    "executionInfo": {
     "elapsed": 14467,
     "status": "ok",
     "timestamp": 1615094366814,
     "user": {
      "displayName": "Mafee Axe",
      "photoUrl": "",
      "userId": "13239148624326640903"
     },
     "user_tz": -330
    },
    "id": "aVHW09H-4G-P"
   },
   "outputs": [],
   "source": [
    "!wget -q -O flatnet_separable_pointGrey_transposeInit https://www.dropbox.com/s/zh8ucresezrfb5o/flatnet_separable_pointGrey_transposeInit?dl=0\n",
    "!wget -q -O flatnet_separable_pointGrey_randomInit https://www.dropbox.com/s/kve8ki2wll9lytg/flatnet_separable_pointGrey_randomInit?dl=0"
   ]
  },
  {
   "cell_type": "markdown",
   "metadata": {
    "id": "SOMx5lmQ4DHT"
   },
   "source": [
    "**Set the path to the trained model**"
   ]
  },
  {
   "cell_type": "code",
   "execution_count": null,
   "metadata": {
    "colab": {
     "base_uri": "https://localhost:8080/"
    },
    "executionInfo": {
     "elapsed": 29722,
     "status": "ok",
     "timestamp": 1614150619197,
     "user": {
      "displayName": "Mafee Axe",
      "photoUrl": "",
      "userId": "13239148624326640903"
     },
     "user_tz": -330
    },
    "id": "WUfATCd43za4",
    "outputId": "40e7c209-3243-46db-c955-4bef5e291a0c"
   },
   "outputs": [],
   "source": [
    "from google.colab import drive\n",
    "drive.mount('/content/drive')\n"
   ]
  },
  {
   "cell_type": "code",
   "execution_count": null,
   "metadata": {
    "executionInfo": {
     "elapsed": 1568,
     "status": "ok",
     "timestamp": 1615094369756,
     "user": {
      "displayName": "Mafee Axe",
      "photoUrl": "",
      "userId": "13239148624326640903"
     },
     "user_tz": -330
    },
    "id": "9c6f2SXD4DHU"
   },
   "outputs": [],
   "source": [
    "# specify the path to the pretrained model.\n",
    "# modelRoot = r'flatnet_separable_pointGrey_transposeInit' ##Use this for Proposed-T\n",
    "modelRoot = r'flatnet_separable_pointGrey_randomInit' ##Use this for Proposed-R"
   ]
  },
  {
   "cell_type": "code",
   "execution_count": null,
   "metadata": {
    "executionInfo": {
     "elapsed": 2353,
     "status": "ok",
     "timestamp": 1615094375323,
     "user": {
      "displayName": "Mafee Axe",
      "photoUrl": "",
      "userId": "13239148624326640903"
     },
     "user_tz": -330
    },
    "id": "OEY26xpB4DHY"
   },
   "outputs": [],
   "source": [
    "from skimage import transform\n",
    "tform = transform.SimilarityTransform(rotation=0.00174) #to account for small rotation "
   ]
  },
  {
   "cell_type": "code",
   "execution_count": null,
   "metadata": {
    "executionInfo": {
     "elapsed": 1278,
     "status": "ok",
     "timestamp": 1615094376541,
     "user": {
      "displayName": "Mafee Axe",
      "photoUrl": "",
      "userId": "13239148624326640903"
     },
     "user_tz": -330
    },
    "id": "fyQLrDSq4DHc"
   },
   "outputs": [],
   "source": [
    "class double_conv(nn.Module):\n",
    "    '''(conv => BN => ReLU) * 2'''\n",
    "    def __init__(self, in_ch, out_ch):\n",
    "        super(double_conv, self).__init__()\n",
    "        self.conv = nn.Sequential(\n",
    "            nn.Conv2d(in_ch, out_ch, 3, padding=1),\n",
    "            nn.BatchNorm2d(out_ch,momentum=0.99),\n",
    "            nn.ReLU(inplace=True),\n",
    "            nn.Conv2d(out_ch, out_ch, 3, padding=1),\n",
    "            nn.BatchNorm2d(out_ch,momentum=0.99),\n",
    "            nn.ReLU(inplace=True)\n",
    "        )\n",
    "\n",
    "    def forward(self, x):\n",
    "        x = self.conv(x)\n",
    "        return x\n",
    "\n",
    "    \n",
    "    \n",
    "class double_conv2(nn.Module):\n",
    "    '''(conv => BN => ReLU) * 2'''\n",
    "    def __init__(self, in_ch, out_ch):\n",
    "        super(double_conv2, self).__init__()\n",
    "        self.conv = nn.Sequential(\n",
    "            nn.Conv2d(in_ch, out_ch, 3,stride=2, padding=1),\n",
    "            nn.BatchNorm2d(out_ch,momentum=0.99),\n",
    "            nn.ReLU(inplace=True),\n",
    "            nn.Conv2d(out_ch, out_ch, 3, padding=1),\n",
    "            nn.BatchNorm2d(out_ch,momentum=0.99),\n",
    "            nn.ReLU(inplace=True)\n",
    "        )\n",
    "\n",
    "    def forward(self, x):\n",
    "        x = self.conv(x)\n",
    "        return x    \n",
    "\n",
    "    \n",
    "    \n",
    "\n",
    "class inconv(nn.Module):\n",
    "    def __init__(self, in_ch, out_ch):\n",
    "        super(inconv, self).__init__()\n",
    "        self.conv = double_conv(in_ch, out_ch)\n",
    "\n",
    "    def forward(self, x):\n",
    "        x = self.conv(x)\n",
    "        return x\n",
    "\n",
    "\n",
    "class down(nn.Module):\n",
    "    def __init__(self, in_ch, out_ch):\n",
    "        super(down, self).__init__()\n",
    "        self.mpconv = nn.Sequential(\n",
    "            double_conv2(in_ch, out_ch)\n",
    "        )\n",
    "\n",
    "    def forward(self, x):\n",
    "        x = self.mpconv(x)\n",
    "        return x\n",
    "\n",
    "\n",
    "class up(nn.Module):\n",
    "    def __init__(self, in_ch, out_ch, bilinear=False):\n",
    "        super(up, self).__init__()\n",
    "\n",
    "        if bilinear:\n",
    "            self.up = nn.Upsample(scale_factor=2, mode='bilinear', align_corners=True)\n",
    "        else:\n",
    "            self.up = nn.ConvTranspose2d(in_ch//2, in_ch//2, 2, stride=2)\n",
    "\n",
    "        self.conv = double_conv(in_ch, out_ch)\n",
    "\n",
    "    def forward(self, x1, x2):\n",
    "        x1 = self.up(x1)\n",
    "        diffX = x1.size()[2] - x2.size()[2]\n",
    "        diffY = x1.size()[3] - x2.size()[3]\n",
    "        x2 = F.pad(x2, (diffX // 2, int(diffX / 2),\n",
    "                        diffY // 2, int(diffY / 2)))\n",
    "        x = torch.cat([x2, x1], dim=1)\n",
    "        x = self.conv(x)\n",
    "        return x\n",
    "\n",
    "\n",
    "class outconv(nn.Module):\n",
    "    def __init__(self, in_ch, out_ch):\n",
    "        super(outconv, self).__init__()\n",
    "        self.conv = nn.Conv2d(in_ch, out_ch, 3,padding=1)\n",
    "\n",
    "    def forward(self, x):\n",
    "        x = self.conv(x)\n",
    "        return x"
   ]
  },
  {
   "cell_type": "code",
   "execution_count": null,
   "metadata": {
    "executionInfo": {
     "elapsed": 1806,
     "status": "ok",
     "timestamp": 1615094379740,
     "user": {
      "displayName": "Mafee Axe",
      "photoUrl": "",
      "userId": "13239148624326640903"
     },
     "user_tz": -330
    },
    "id": "TvlAaepx4DHf"
   },
   "outputs": [],
   "source": [
    "class FlatNet(nn.Module):\n",
    "    def __init__(self, n_channels=4):\n",
    "        super(FlatNet, self).__init__()\n",
    "        self.inc = inconv(n_channels, 128)\n",
    "        self.down1 = down(128, 256)\n",
    "        self.down2 = down(256, 512)\n",
    "        self.down3 = down(512, 1024)\n",
    "        self.down4 = down(1024, 1024)\n",
    "        self.up1 = up(2048, 512)\n",
    "        self.up2 = up(1024, 256)\n",
    "        self.up3 = up(512, 128)\n",
    "        self.up4 = up(256, 128)\n",
    "        self.outc = outconv(128, 3)\n",
    "        self.PhiL =nn.Parameter(torch.randn(500,256,1)) \n",
    "        self.PhiR = nn.Parameter(torch.randn(620,256,1)) \n",
    "        self.bn=nn.BatchNorm2d(4,momentum=0.99)\n",
    "    def forward(self, Xinp):\n",
    "        \n",
    "        X0 = F.leaky_relu(torch.matmul(torch.matmul(Xinp[:,0,:,:],self.PhiR[:,:,0]).permute(0,2,1),self.PhiL[:,:,0]).permute(0,2,1).unsqueeze(3))\n",
    "        X11 = F.leaky_relu(torch.matmul(torch.matmul(Xinp[:,1,:,:],self.PhiR[:,:,0]).permute(0,2,1),self.PhiL[:,:,0]).permute(0,2,1).unsqueeze(3))\n",
    "        X12 = F.leaky_relu(torch.matmul(torch.matmul(Xinp[:,2,:,:],self.PhiR[:,:,0]).permute(0,2,1),self.PhiL[:,:,0]).permute(0,2,1).unsqueeze(3))\n",
    "        X2 = F.leaky_relu(torch.matmul(torch.matmul(Xinp[:,3,:,:],self.PhiR[:,:,0]).permute(0,2,1),self.PhiL[:,:,0]).permute(0,2,1).unsqueeze(3))\n",
    "        Xout = torch.cat((X2,X12,X11,X0),3)\n",
    "        x = Xout.permute(0,3,1,2)\n",
    "        x = self.bn(x)\n",
    "        x1 = self.inc(x)\n",
    "        x2 = self.down1(x1)\n",
    "        x3 = self.down2(x2)\n",
    "        x4 = self.down3(x3)\n",
    "        x5 = self.down4(x4)\n",
    "        x = self.up1(x5, x4)\n",
    "        x = self.up2(x, x3)\n",
    "        x = self.up3(x, x2)\n",
    "        x = self.up4(x, x1)\n",
    "        x = self.outc(x)\n",
    "\n",
    "            \n",
    "        return torch.sigmoid(x)\n",
    "\n"
   ]
  },
  {
   "cell_type": "code",
   "execution_count": null,
   "metadata": {
    "colab": {
     "base_uri": "https://localhost:8080/"
    },
    "executionInfo": {
     "elapsed": 2647,
     "status": "ok",
     "timestamp": 1615095589648,
     "user": {
      "displayName": "Mafee Axe",
      "photoUrl": "",
      "userId": "13239148624326640903"
     },
     "user_tz": -330
    },
    "id": "xMad3SNIMsgw",
    "outputId": "7e89fe0e-148b-464f-864b-7f3b9fcaa73a"
   },
   "outputs": [],
   "source": [
    "print(a.keys())"
   ]
  },
  {
   "cell_type": "code",
   "execution_count": null,
   "metadata": {
    "executionInfo": {
     "elapsed": 5682,
     "status": "ok",
     "timestamp": 1615095254710,
     "user": {
      "displayName": "Mafee Axe",
      "photoUrl": "",
      "userId": "13239148624326640903"
     },
     "user_tz": -330
    },
    "id": "yO3Frui8KfZ8"
   },
   "outputs": [],
   "source": [
    "a = torch.load('/content/drive/MyDrive/flatnet-flatnet-sep/latest.tar',map_location=torch.device('cpu'))"
   ]
  },
  {
   "cell_type": "code",
   "execution_count": null,
   "metadata": {
    "colab": {
     "base_uri": "https://localhost:8080/"
    },
    "executionInfo": {
     "elapsed": 2078,
     "status": "ok",
     "timestamp": 1615095475624,
     "user": {
      "displayName": "Mafee Axe",
      "photoUrl": "",
      "userId": "13239148624326640903"
     },
     "user_tz": -330
    },
    "id": "ywbRA_NgLQnO",
    "outputId": "0a7a6789-f54f-4a03-d5d7-0b6bdc7bcdc4"
   },
   "outputs": [],
   "source": [
    "print(a['gen_state_dict'].keys())"
   ]
  },
  {
   "cell_type": "markdown",
   "metadata": {
    "id": "4Uhz0hEq4DHh"
   },
   "source": [
    "**Load the model and update it state dictionary with the trained state dictionary**"
   ]
  },
  {
   "cell_type": "code",
   "execution_count": null,
   "metadata": {
    "colab": {
     "base_uri": "https://localhost:8080/",
     "height": 897
    },
    "executionInfo": {
     "elapsed": 1621,
     "status": "error",
     "timestamp": 1615095373560,
     "user": {
      "displayName": "Mafee Axe",
      "photoUrl": "",
      "userId": "13239148624326640903"
     },
     "user_tz": -330
    },
    "id": "1HZBAawY4DHi",
    "outputId": "d9e6855f-2a07-44c0-e1a0-5cb93c63aba0"
   },
   "outputs": [],
   "source": [
    "flatnet = FlatNet(4)\n",
    "#flatnet.load_state_dict(torch.load(modelRoot,map_location=torch.device('cpu')))\n",
    "flatnet.load_state_dict(flatnet_casia)\n",
    "\n",
    "flatnet.eval()"
   ]
  },
  {
   "cell_type": "markdown",
   "metadata": {
    "id": "DMwRGGw74DHn"
   },
   "source": [
    "**Function to pre-process the measurement and evaluate it**"
   ]
  },
  {
   "cell_type": "code",
   "execution_count": null,
   "metadata": {
    "id": "qS7diEJ94DHn"
   },
   "outputs": [],
   "source": [
    "def evaluate(X):\n",
    "    X=X/65535.0\n",
    "    X_train=np.zeros((1,4,500,620))\n",
    "    im1=np.zeros((500,620,4))\n",
    "    im1[:,:,0]=X[0::2, 0::2]#b\n",
    "    im1[:,:,1]=X[0::2, 1::2]#gb\n",
    "    im1[:,:,2]=X[1::2, 0::2]#gr\n",
    "    im1[:,:,3]=X[1::2, 1::2]#r\n",
    "    im1=transform.warp(im1,tform)\n",
    "    #im=im1[6:506,10:630,:]      \n",
    "    rowMeans = im1.mean(axis=1, keepdims=True)\n",
    "    colMeans = im1.mean(axis=0, keepdims=True)\n",
    "    allMean = rowMeans.mean()\n",
    "    im1 = im1 - rowMeans - colMeans + allMean\n",
    "\n",
    "    X_train[0,:,:,:]=np.swapaxes(np.swapaxes(im1,0,2),1,2)\n",
    "    X_train=X_train.astype('float32')\n",
    "    X_val=torch.from_numpy(X_train)\n",
    "    #print(X.size())\n",
    "    Xvalout=flatnet(X_val)\n",
    "    ims=Xvalout.detach().numpy()\n",
    "    ims=np.swapaxes(np.swapaxes(ims[0,:,:,:],0,2),0,1)\n",
    "    ims=(ims-np.min(ims))/(np.max(ims)-np.min(ims))\n",
    "    return ims\n"
   ]
  },
  {
   "cell_type": "markdown",
   "metadata": {
    "id": "XCOeNI8l4DHp"
   },
   "source": [
    "**Load the measurement and evaluate it on the trained model**"
   ]
  },
  {
   "cell_type": "code",
   "execution_count": null,
   "metadata": {
    "colab": {
     "base_uri": "https://localhost:8080/"
    },
    "executionInfo": {
     "elapsed": 1579,
     "status": "ok",
     "timestamp": 1614157046983,
     "user": {
      "displayName": "Mafee Axe",
      "photoUrl": "",
      "userId": "13239148624326640903"
     },
     "user_tz": -330
    },
    "id": "oBOt1whlFIbK",
    "outputId": "16a65e16-1931-4f65-af77-f70193d5f085"
   },
   "outputs": [],
   "source": [
    "from PIL import Image\n",
    "import torchvision.transforms.functional as TF\n",
    "\n",
    "image = Image.open('/content/drive/MyDrive/RAFDB_Alligned/measurements/0013_meas.png')\n",
    "x = TF.to_tensor(image)\n",
    "\n",
    "print(x.size())"
   ]
  },
  {
   "cell_type": "code",
   "execution_count": null,
   "metadata": {
    "colab": {
     "base_uri": "https://localhost:8080/",
     "height": 393
    },
    "executionInfo": {
     "elapsed": 1753,
     "status": "error",
     "timestamp": 1614161917085,
     "user": {
      "displayName": "Mafee Axe",
      "photoUrl": "",
      "userId": "13239148624326640903"
     },
     "user_tz": -330
    },
    "id": "rWR5C2XV4DHq",
    "outputId": "3cdf0615-8fa9-4aab-8b23-a72ee9d81e95"
   },
   "outputs": [],
   "source": [
    "# Uncomment the below line if using local jupyter server\n",
    "# !wget -q -O fc_8.png https://raw.githubusercontent.com/siddiquesalman/flatnet/flatnet-sep/example_data/fc_8.png\n",
    "# Replace the input path with `fc_8.png`\n",
    "\n",
    "\n",
    "#X = skimage.io.imread(\"https://raw.githubusercontent.com/siddiquesalman/flatnet/flatnet-sep/example_data/fc_8.png\") ## Specify the path to the measurement\n",
    "#X = skimage.io.imread(\"/content/drive/MyDrive/RAFDB_Alligned/measurements/0015_meas.png\")\n",
    "X = skimage.io.imread('/content/drive/MyDrive/RAFDB_Alligned/measurements/0014_meas.png')\n",
    "print(X.shape)\n",
    "#print(meas.shape)\n",
    "#X = torch.from_numpy(X).permute(2,0,1)\n",
    "#X = X.squeeze(0)\n",
    "#print(X.size())\n",
    "#X = Raw2Bayer(X)\n",
    "print(X.shape)\n",
    "recn = evaluate(X)\n",
    "skimage.io.imshow(recn)\n",
    "    "
   ]
  },
  {
   "cell_type": "code",
   "execution_count": null,
   "metadata": {
    "id": "jRl0awMj7VaD"
   },
   "outputs": [],
   "source": [
    "mat = loadmat('/content/drive/MyDrive/Colab Notebooks/lensless_imaging/flatcam_calibdata.mat')\n",
    "cSize = np.squeeze(mat['cSize'][:, :]).astype(int)\n"
   ]
  },
  {
   "cell_type": "code",
   "execution_count": null,
   "metadata": {
    "colab": {
     "base_uri": "https://localhost:8080/"
    },
    "executionInfo": {
     "elapsed": 36616,
     "status": "ok",
     "timestamp": 1615094217874,
     "user": {
      "displayName": "Mafee Axe",
      "photoUrl": "",
      "userId": "13239148624326640903"
     },
     "user_tz": -330
    },
    "id": "-P1t1KCSCAxQ",
    "outputId": "92d7f6e7-c020-4c2c-fb12-d0ad68a3d09d"
   },
   "outputs": [],
   "source": [
    "from google.colab import drive\n",
    "drive.mount('/content/drive')"
   ]
  },
  {
   "cell_type": "code",
   "execution_count": null,
   "metadata": {
    "id": "FWKGvk934DHs"
   },
   "outputs": [],
   "source": [
    "def Raw2Bayer(x, crop_size = cSize, is_rotate = False):\n",
    "    r''' Convert FlatCam raw data to Bayer'''\n",
    "    \n",
    "    # Step 1. Convert the Image & rotate \n",
    "    c, b, h, w = x.size()\n",
    "    \n",
    "    y = torch.zeros((c, 4, int(h/2), int(w/2)), device = torch.device('cuda'))\n",
    "\n",
    "    if is_rotate:                       # ---> THIS MODES DOESNOT WORK YET!!! (2019.07.14)\n",
    "        scale = torch.ones(1)\n",
    "        angle = torch.ones(1) * 0.05 * 360              # 0.05 is angle collected from data measurements \n",
    "        center = torch.ones(1, 2)\n",
    "        center[..., 0] = int(h / 4)  # x\n",
    "        center[..., 1] = int(w / 4)  # y\n",
    "        M = kr.get_rotation_matrix2d(center, angle, scale).cuda()\n",
    "        _, _, h, w = y.size()\n",
    "        \n",
    "        y[:, 0, :, : ] = kr.warp_affine(x[:, :, 1::2, 1::2], M, dsize = (h, w))\n",
    "        y[:, 1, :, : ] = kr.warp_affine(x[:, :, 0::2, 1::2], M, dsize = (h, w))\n",
    "        y[:, 2, :, : ] = kr.warp_affine(x[:, :, 1::2, 0::2], M, dsize = (h, w))\n",
    "        y[:, 3, :, : ] = kr.warp_affine(x[:, :, 0::2, 0::2], M, dsize = (h, w))\n",
    "\n",
    "    else:\n",
    "        y[:, 0, :, : ] = x[:, 0, 1::2, 1::2]\n",
    "        y[:, 1, :, : ] = x[:, 0, 0::2, 1::2]\n",
    "        y[:, 2, :, : ] = x[:, 0, 1::2, 0::2]\n",
    "        y[:, 3, :, : ] = x[:, 0, 0::2, 0::2]\n",
    "\n",
    "    # Step 3. Crop the image \n",
    "    start_row = int((y.size()[2] - crop_size[0]) / 2) \n",
    "    end_row = start_row + crop_size[0]\n",
    "    start_col = int((y.size()[3] - crop_size[1])/2) \n",
    "    end_col = start_col + crop_size[1] \n",
    "    return y[:,:, start_row:end_row, start_col:end_col]\n"
   ]
  },
  {
   "cell_type": "code",
   "execution_count": null,
   "metadata": {
    "id": "AZS0w7hh7rG0"
   },
   "outputs": [],
   "source": []
  }
 ],
 "metadata": {
  "colab": {
   "name": "FlatNet-separable.ipynb",
   "provenance": []
  },
  "kernelspec": {
   "display_name": "Python 3",
   "language": "python",
   "name": "python3"
  },
  "language_info": {
   "codemirror_mode": {
    "name": "ipython",
    "version": 3
   },
   "file_extension": ".py",
   "mimetype": "text/x-python",
   "name": "python",
   "nbconvert_exporter": "python",
   "pygments_lexer": "ipython3",
   "version": "3.6.9"
  }
 },
 "nbformat": 4,
 "nbformat_minor": 1
}
